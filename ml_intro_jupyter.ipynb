{
  "cells": [
    {
      "cell_type": "markdown",
      "metadata": {
        "id": "51VSpNOeAqaz"
      },
      "source": [
        "# Introduction au Machine Learning\n",
        "## Une approche pratique avec scikit-learn\n",
        "\n",
        "Ce notebook présente une introduction au Machine Learning avec des exemples pratiques utilisant scikit-learn."
      ]
    },
    {
      "cell_type": "markdown",
      "metadata": {
        "id": "s0W0MgfjAqa5"
      },
      "source": [
        "## Installation des packages nécessaires"
      ]
    },
    {
      "cell_type": "code",
      "execution_count": null,
      "metadata": {
        "id": "tFHagcaUAqa9"
      },
      "source": [
        "!pip install numpy pandas matplotlib seaborn scikit-learn"
      ],
      "outputs": []
    },
    {
      "cell_type": "code",
      "execution_count": null,
      "metadata": {
        "id": "1ePDcbH5AqbB"
      },
      "source": [
        "import numpy as np\n",
        "import pandas as pd\n",
        "import matplotlib.pyplot as plt\n",
        "import seaborn as sns\n",
        "from sklearn.datasets import load_iris, fetch_california_housing\n",
        "from sklearn.model_selection import train_test_split, cross_val_score\n",
        "from sklearn.preprocessing import StandardScaler\n",
        "from sklearn.ensemble import RandomForestClassifier, RandomForestRegressor\n",
        "from sklearn.linear_model import LinearRegression\n",
        "from sklearn.metrics import classification_report, confusion_matrix\n",
        "from sklearn.metrics import mean_squared_error, r2_score\n",
        "\n",
        "%matplotlib inline"
      ],
      "outputs": []
    },
    {
      "cell_type": "markdown",
      "metadata": {
        "id": "di9uj-cAAqbF"
      },
      "source": [
        "# 1. Qu'est-ce que le Machine Learning ?\n",
        "\n",
        "Le Machine Learning est une branche de l'intelligence artificielle qui permet aux systèmes d'apprendre à partir des données.\n",
        "\n",
        "Applications courantes :\n",
        "- Recommandations (Netflix, Amazon)\n",
        "- Reconnaissance d'images\n",
        "- Détection de fraudes\n",
        "- Prédiction des ventes"
      ]
    },
    {
      "cell_type": "markdown",
      "metadata": {
        "id": "2-HXE7TpAqbG"
      },
      "source": [
        "# 2. Premier exemple : Classification des Iris\n",
        "\n",
        "Commençons par un exemple classique : la classification des fleurs Iris."
      ]
    },
    {
      "cell_type": "code",
      "execution_count": null,
      "metadata": {
        "id": "SU1wdmOAAqbH"
      },
      "source": [
        "# Chargement du dataset Iris\n",
        "iris = load_iris()\n",
        "X = iris.data\n",
        "y = iris.target\n",
        "\n",
        "# Conversion en DataFrame pour une meilleure visualisation\n",
        "iris_df = pd.DataFrame(X, columns=iris.feature_names)\n",
        "iris_df['target'] = y\n",
        "\n",
        "print(\"Aperçu des données :\")\n",
        "print(iris_df.head())\n",
        "print(\"\\nInformations sur le dataset :\")\n",
        "print(iris_df.info())"
      ],
      "outputs": []
    },
    {
      "cell_type": "markdown",
      "metadata": {
        "id": "54068W8AAqbI"
      },
      "source": [
        "## 2.1 Visualisation des données"
      ]
    },
    {
      "cell_type": "code",
      "execution_count": null,
      "metadata": {
        "id": "eOrfaxtdAqbJ"
      },
      "source": [
        "# Création d'un pair plot pour visualiser les relations entre les features\n",
        "sns.pairplot(iris_df, hue='target', diag_kind='hist')\n",
        "plt.show()"
      ],
      "outputs": []
    },
    {
      "cell_type": "markdown",
      "metadata": {
        "id": "f-5qe_I_AqbM"
      },
      "source": [
        "## 2.2 Préparation des données"
      ]
    },
    {
      "cell_type": "code",
      "execution_count": null,
      "metadata": {
        "id": "CCloNmYNAqbN"
      },
      "source": [
        "# Split des données\n",
        "X_train, X_test, y_train, y_test = train_test_split(\n",
        "    X, y, test_size=0.2, random_state=42\n",
        ")\n",
        "\n",
        "# Standardisation\n",
        "scaler = StandardScaler()\n",
        "X_train_scaled = scaler.fit_transform(X_train)\n",
        "X_test_scaled = scaler.transform(X_test)"
      ],
      "outputs": []
    },
    {
      "cell_type": "markdown",
      "metadata": {
        "id": "P3W1flwsAqbP"
      },
      "source": [
        "## 2.3 Entraînement du modèle"
      ]
    },
    {
      "cell_type": "code",
      "execution_count": null,
      "metadata": {
        "id": "gjQVoDjtAqbP"
      },
      "source": [
        "# Création et entraînement du Random Forest\n",
        "rf_model = RandomForestClassifier(n_estimators=100, random_state=42)\n",
        "rf_model.fit(X_train_scaled, y_train)\n",
        "\n",
        "# Prédictions\n",
        "y_pred = rf_model.predict(X_test_scaled)\n",
        "\n",
        "# Affichage des résultats\n",
        "print(\"Classification Report:\")\n",
        "print(classification_report(y_test, y_pred, target_names=iris.target_names))"
      ],
      "outputs": []
    },
    {
      "cell_type": "code",
      "execution_count": null,
      "metadata": {
        "id": "kObZdOunAqbQ"
      },
      "source": [
        "# Visualisation de la matrice de confusion\n",
        "plt.figure(figsize=(8, 6))\n",
        "cm = confusion_matrix(y_test, y_pred)\n",
        "sns.heatmap(cm, annot=True, fmt='d', xticklabels=iris.target_names, yticklabels=iris.target_names)\n",
        "plt.title('Matrice de confusion')\n",
        "plt.xlabel('Prédiction')\n",
        "plt.ylabel('Réalité')\n",
        "plt.show()"
      ],
      "outputs": []
    },
    {
      "cell_type": "markdown",
      "metadata": {
        "id": "k76Z3lfHAqbR"
      },
      "source": [
        "# 3. Exercice pratique : Prédiction des prix immobiliers\n",
        "\n",
        "Maintenant, passons à un problème de régression avec le dataset California Housing."
      ]
    },
    {
      "cell_type": "code",
      "execution_count": null,
      "metadata": {
        "id": "eY_cD7aHAqbS"
      },
      "source": [
        "# Chargement des données\n",
        "housing = fetch_california_housing()\n",
        "X = pd.DataFrame(housing.data, columns=housing.feature_names)\n",
        "y = housing.target\n",
        "\n",
        "print(\"Description des features :\")\n",
        "print(X.describe())\n",
        "\n",
        "# Distribution des prix\n",
        "plt.figure(figsize=(10, 6))\n",
        "plt.hist(y, bins=50)\n",
        "plt.title('Distribution des prix des maisons')\n",
        "plt.xlabel('Prix (100k$)')\n",
        "plt.ylabel('Fréquence')\n",
        "plt.show()"
      ],
      "outputs": []
    },
    {
      "cell_type": "markdown",
      "metadata": {
        "id": "SBbbogK4AqbS"
      },
      "source": [
        "## 3.1 Préparation des données"
      ]
    },
    {
      "cell_type": "code",
      "execution_count": null,
      "metadata": {
        "id": "t0QDxTyhAqbT"
      },
      "source": [
        "# Split et standardisation\n",
        "X_train, X_test, y_train, y_test = train_test_split(X, y, test_size=0.2, random_state=42)\n",
        "\n",
        "scaler = StandardScaler()\n",
        "X_train_scaled = scaler.fit_transform(X_train)\n",
        "X_test_scaled = scaler.transform(X_test)"
      ],
      "outputs": []
    },
    {
      "cell_type": "markdown",
      "metadata": {
        "id": "c84gdPnaAqbU"
      },
      "source": [
        "## 3.2 Comparaison de modèles"
      ]
    },
    {
      "cell_type": "code",
      "execution_count": null,
      "metadata": {
        "id": "olXLFba6AqbU"
      },
      "source": [
        "# Régression linéaire\n",
        "lr_model = LinearRegression()\n",
        "lr_model.fit(X_train_scaled, y_train)\n",
        "lr_pred = lr_model.predict(X_test_scaled)\n",
        "\n",
        "print(\"Résultats de la régression linéaire :\")\n",
        "print(f\"MSE: {mean_squared_error(y_test, lr_pred):.4f}\")\n",
        "print(f\"R²: {r2_score(y_test, lr_pred):.4f}\")"
      ],
      "outputs": []
    },
    {
      "cell_type": "code",
      "execution_count": null,
      "metadata": {
        "id": "Gki8g8sgAqbV"
      },
      "source": [
        "# Random Forest\n",
        "rf_model = RandomForestRegressor(n_estimators=100, random_state=42)\n",
        "rf_model.fit(X_train_scaled, y_train)\n",
        "rf_pred = rf_model.predict(X_test_scaled)\n",
        "\n",
        "print(\"\\nRésultats du Random Forest :\")\n",
        "print(f\"MSE: {mean_squared_error(y_test, rf_pred):.4f}\")\n",
        "print(f\"R²: {r2_score(y_test, rf_pred):.4f}\")"
      ],
      "outputs": []
    },
    {
      "cell_type": "markdown",
      "metadata": {
        "id": "qcXXhOWoAqbW"
      },
      "source": [
        "## 3.3 Analyse des features importantes"
      ]
    },
    {
      "cell_type": "code",
      "execution_count": null,
      "metadata": {
        "id": "s7j5VRY8AqbW"
      },
      "source": [
        "# Visualisation de l'importance des features\n",
        "feature_importance = pd.DataFrame({\n",
        "    'feature': housing.feature_names,\n",
        "    'importance': rf_model.feature_importances_\n",
        "})\n",
        "feature_importance = feature_importance.sort_values('importance', ascending=False)\n",
        "\n",
        "plt.figure(figsize=(10, 6))\n",
        "sns.barplot(data=feature_importance, x='importance', y='feature')\n",
        "plt.title('Importance des features')\n",
        "plt.show()"
      ],
      "outputs": []
    },
    {
      "cell_type": "markdown",
      "metadata": {
        "id": "5MU49LqRAqbX"
      },
      "source": [
        "## 3.4 Validation croisée"
      ]
    },
    {
      "cell_type": "code",
      "execution_count": null,
      "metadata": {
        "id": "xdx5p1jsAqbY"
      },
      "source": [
        "# Validation croisée pour le Random Forest\n",
        "cv_scores = cross_val_score(rf_model, X_train_scaled, y_train, cv=5)\n",
        "print(\"Scores de validation croisée:\", cv_scores)\n",
        "print(f\"Score moyen: {cv_scores.mean():.4f} (+/- {cv_scores.std() * 2:.4f})\")"
      ],
      "outputs": []
    },
    {
      "cell_type": "markdown",
      "metadata": {
        "id": "F8tYDEW9AqbY"
      },
      "source": [
        "# 4. Exercices proposés\n",
        "\n",
        "1. Essayez d'améliorer les performances du modèle Random Forest en ajustant ses hyperparamètres\n",
        "2. Testez d'autres algorithmes (ex: SVR, XGBoost)\n",
        "3. Créez de nouvelles features à partir des features existantes\n",
        "4. Analysez les erreurs du modèle pour comprendre ses faiblesses\n",
        "\n",
        "# 5. Resources additionnelles\n",
        "\n",
        "- Documentation scikit-learn: https://scikit-learn.org/\n",
        "- Cours en ligne: Coursera, edX\n",
        "- Kaggle pour la pratique\n",
        "- Forums et communautés"
      ]
    }
  ],
  "metadata": {
    "kernelspec": {
      "display_name": "Python 3",
      "language": "python",
      "name": "python3"
    },
    "language_info": {
      "codemirror_mode": {
        "name": "ipython",
        "version": 3
      },
      "file_extension": ".py",
      "mimetype": "text/x-python",
      "name": "python",
      "nbconvert_exporter": "python",
      "pygments_lexer": "ipython3",
      "version": "3.8.0"
    },
    "colab": {
      "provenance": []
    }
  },
  "nbformat": 4,
  "nbformat_minor": 0
}